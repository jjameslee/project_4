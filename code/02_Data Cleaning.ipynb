{
 "cells": [
  {
   "cell_type": "markdown",
   "metadata": {
    "pycharm": {}
   },
   "source": [
    "## Data Cleaning\n"
   ]
  },
  {
   "cell_type": "code",
   "execution_count": 1,
   "metadata": {
    "pycharm": {
     "is_executing": false
    }
   },
   "outputs": [],
   "source": [
    "import pandas as pd\n",
    "import re"
   ]
  },
  {
   "cell_type": "markdown",
   "metadata": {
    "pycharm": {}
   },
   "source": [
    "This imports  the libraries that we need. "
   ]
  },
  {
   "cell_type": "code",
   "execution_count": 2,
   "metadata": {
    "pycharm": {
     "is_executing": false
    }
   },
   "outputs": [
    {
     "name": "stderr",
     "output_type": "stream",
     "text": [
      "/Users/newtonsspawn/anaconda3/envs/dsi/lib/python3.6/site-packages/ipykernel_launcher.py:1: ParserWarning: Falling back to the 'python' engine because the 'c' engine does not support regex separators (separators > 1 char and different from '\\s+' are interpreted as regex); you can avoid this warning by specifying engine='python'.\n",
      "  \"\"\"Entry point for launching an IPython kernel.\n",
      "/Users/newtonsspawn/anaconda3/envs/dsi/lib/python3.6/site-packages/ipykernel_launcher.py:2: ParserWarning: Falling back to the 'python' engine because the 'c' engine does not support regex separators (separators > 1 char and different from '\\s+' are interpreted as regex); you can avoid this warning by specifying engine='python'.\n",
      "  \n",
      "/Users/newtonsspawn/anaconda3/envs/dsi/lib/python3.6/site-packages/ipykernel_launcher.py:3: ParserWarning: Falling back to the 'python' engine because the 'c' engine does not support regex separators (separators > 1 char and different from '\\s+' are interpreted as regex); you can avoid this warning by specifying engine='python'.\n",
      "  This is separate from the ipykernel package so we can avoid doing imports until\n",
      "/Users/newtonsspawn/anaconda3/envs/dsi/lib/python3.6/site-packages/ipykernel_launcher.py:4: ParserWarning: Falling back to the 'python' engine because the 'c' engine does not support regex separators (separators > 1 char and different from '\\s+' are interpreted as regex); you can avoid this warning by specifying engine='python'.\n",
      "  after removing the cwd from sys.path.\n",
      "/Users/newtonsspawn/anaconda3/envs/dsi/lib/python3.6/site-packages/ipykernel_launcher.py:5: ParserWarning: Falling back to the 'python' engine because the 'c' engine does not support regex separators (separators > 1 char and different from '\\s+' are interpreted as regex); you can avoid this warning by specifying engine='python'.\n",
      "  \"\"\"\n",
      "/Users/newtonsspawn/anaconda3/envs/dsi/lib/python3.6/site-packages/ipykernel_launcher.py:6: ParserWarning: Falling back to the 'python' engine because the 'c' engine does not support regex separators (separators > 1 char and different from '\\s+' are interpreted as regex); you can avoid this warning by specifying engine='python'.\n",
      "  \n",
      "/Users/newtonsspawn/anaconda3/envs/dsi/lib/python3.6/site-packages/ipykernel_launcher.py:7: ParserWarning: Falling back to the 'python' engine because the 'c' engine does not support regex separators (separators > 1 char and different from '\\s+' are interpreted as regex); you can avoid this warning by specifying engine='python'.\n",
      "  import sys\n",
      "/Users/newtonsspawn/anaconda3/envs/dsi/lib/python3.6/site-packages/ipykernel_launcher.py:8: ParserWarning: Falling back to the 'python' engine because the 'c' engine does not support regex separators (separators > 1 char and different from '\\s+' are interpreted as regex); you can avoid this warning by specifying engine='python'.\n",
      "  \n"
     ]
    }
   ],
   "source": [
    "hurricane_harvey_pre = pd.read_csv('../data/hurricane_harvey_pre.csv',delimiter=\";;\")\n",
    "hurricane_irma_pre = pd.read_csv('../data/hurricane_irma_pre.csv',delimiter=\";;\")\n",
    "hurricane_maria_pre = pd.read_csv('../data/hurricane_maria_pre.csv',delimiter=\";;\")\n",
    "north_bay_2014_earthquake_pre = pd.read_csv('../data/north_bay_2014_earthquake_pre.csv',delimiter=\";;\")\n",
    "prague_2011_earthquake_pre = pd.read_csv('../data/prague_2011_earthquake_pre.csv',delimiter=\";;\")\n",
    "wildfire_campfire_pre = pd.read_csv('../data/wildfire_campfire_pre.csv',delimiter=\";;\")\n",
    "wildfire_carrfire_pre = pd.read_csv('../data/wildfire_carrfire_pre.csv',delimiter=\";;\")\n",
    "wildfire_woolseyfire_pre = pd.read_csv('../data/wildfire_woolseyfire_pre.csv',delimiter=\";;\")"
   ]
  },
  {
   "cell_type": "markdown",
   "metadata": {
    "pycharm": {}
   },
   "source": [
    "This imports the pre-disaster data that we scraped using GetOldTweets3 into DataFrames. "
   ]
  },
  {
   "cell_type": "code",
   "execution_count": 3,
   "metadata": {
    "pycharm": {
     "is_executing": false
    }
   },
   "outputs": [],
   "source": [
    "combined_pre = pd.concat([hurricane_harvey_pre, hurricane_irma_pre,hurricane_maria_pre,north_bay_2014_earthquake_pre,prague_2011_earthquake_pre,wildfire_campfire_pre,wildfire_carrfire_pre,wildfire_woolseyfire_pre], ignore_index=True)"
   ]
  },
  {
   "cell_type": "markdown",
   "metadata": {
    "pycharm": {}
   },
   "source": [
    "This creates a combined dataframe of all of the pre-disaster Dataframes that we previously imported. "
   ]
  },
  {
   "cell_type": "code",
   "execution_count": 5,
   "metadata": {
    "pycharm": {
     "is_executing": false
    }
   },
   "outputs": [],
   "source": [
    "combined_pre['text'] = combined_pre.text.map(lambda x: re.sub('http[s]?:\\/\\/[^\\s]*', ' ', x))"
   ]
  },
  {
   "cell_type": "code",
   "execution_count": 6,
   "metadata": {
    "pycharm": {
     "is_executing": false
    }
   },
   "outputs": [],
   "source": [
    "combined_pre['text'] = combined_pre.text.map(lambda x: re.sub('[^A-z]', ' ', x))"
   ]
  },
  {
   "cell_type": "markdown",
   "metadata": {
    "pycharm": {}
   },
   "source": [
    "This removes all URLs and nonalphabetical characters from our pre-disaster twitter texts."
   ]
  },
  {
   "cell_type": "code",
   "execution_count": 7,
   "metadata": {
    "pycharm": {
     "is_executing": false
    }
   },
   "outputs": [
    {
     "name": "stderr",
     "output_type": "stream",
     "text": [
      "/Users/newtonsspawn/anaconda3/envs/dsi/lib/python3.6/site-packages/ipykernel_launcher.py:1: ParserWarning: Falling back to the 'python' engine because the 'c' engine does not support regex separators (separators > 1 char and different from '\\s+' are interpreted as regex); you can avoid this warning by specifying engine='python'.\n",
      "  \"\"\"Entry point for launching an IPython kernel.\n",
      "/Users/newtonsspawn/anaconda3/envs/dsi/lib/python3.6/site-packages/ipykernel_launcher.py:2: ParserWarning: Falling back to the 'python' engine because the 'c' engine does not support regex separators (separators > 1 char and different from '\\s+' are interpreted as regex); you can avoid this warning by specifying engine='python'.\n",
      "  \n",
      "/Users/newtonsspawn/anaconda3/envs/dsi/lib/python3.6/site-packages/ipykernel_launcher.py:3: ParserWarning: Falling back to the 'python' engine because the 'c' engine does not support regex separators (separators > 1 char and different from '\\s+' are interpreted as regex); you can avoid this warning by specifying engine='python'.\n",
      "  This is separate from the ipykernel package so we can avoid doing imports until\n",
      "/Users/newtonsspawn/anaconda3/envs/dsi/lib/python3.6/site-packages/ipykernel_launcher.py:4: ParserWarning: Falling back to the 'python' engine because the 'c' engine does not support regex separators (separators > 1 char and different from '\\s+' are interpreted as regex); you can avoid this warning by specifying engine='python'.\n",
      "  after removing the cwd from sys.path.\n",
      "/Users/newtonsspawn/anaconda3/envs/dsi/lib/python3.6/site-packages/ipykernel_launcher.py:5: ParserWarning: Falling back to the 'python' engine because the 'c' engine does not support regex separators (separators > 1 char and different from '\\s+' are interpreted as regex); you can avoid this warning by specifying engine='python'.\n",
      "  \"\"\"\n",
      "/Users/newtonsspawn/anaconda3/envs/dsi/lib/python3.6/site-packages/ipykernel_launcher.py:6: ParserWarning: Falling back to the 'python' engine because the 'c' engine does not support regex separators (separators > 1 char and different from '\\s+' are interpreted as regex); you can avoid this warning by specifying engine='python'.\n",
      "  \n",
      "/Users/newtonsspawn/anaconda3/envs/dsi/lib/python3.6/site-packages/ipykernel_launcher.py:7: ParserWarning: Falling back to the 'python' engine because the 'c' engine does not support regex separators (separators > 1 char and different from '\\s+' are interpreted as regex); you can avoid this warning by specifying engine='python'.\n",
      "  import sys\n",
      "/Users/newtonsspawn/anaconda3/envs/dsi/lib/python3.6/site-packages/ipykernel_launcher.py:8: ParserWarning: Falling back to the 'python' engine because the 'c' engine does not support regex separators (separators > 1 char and different from '\\s+' are interpreted as regex); you can avoid this warning by specifying engine='python'.\n",
      "  \n"
     ]
    }
   ],
   "source": [
    "hurricane_harvey_post = pd.read_csv('../data/hurricane_harvey_post.csv',delimiter=\";;\")\n",
    "hurricane_irma_post = pd.read_csv('../data/hurricane_irma_post.csv',delimiter=\";;\")\n",
    "hurricane_maria_post = pd.read_csv('../data/hurricane_maria_post.csv',delimiter=\";;\")\n",
    "north_bay_2014_earthquake_post = pd.read_csv('../data/north_bay_2014_earthquake_post.csv',delimiter=\";;\")\n",
    "prague_2011_earthquake_post = pd.read_csv('../data/prague_2011_earthquake_post.csv',delimiter=\";;\")\n",
    "wildfire_campfire_post = pd.read_csv('../data/wildfire_campfire_post.csv',delimiter=\";;\")\n",
    "wildfire_carrfire_post = pd.read_csv('../data/wildfire_carrfire_post.csv',delimiter=\";;\")\n",
    "wildfire_woolseyfire_post = pd.read_csv('../data/wildfire_woolseyfire_post.csv',delimiter=\";;\")"
   ]
  },
  {
   "cell_type": "markdown",
   "metadata": {
    "pycharm": {}
   },
   "source": [
    "This imports the post-disaster data that we scraped using GetOldTweets3 into DataFrames. "
   ]
  },
  {
   "cell_type": "code",
   "execution_count": 8,
   "metadata": {
    "pycharm": {
     "is_executing": false
    }
   },
   "outputs": [],
   "source": [
    "combined_post = pd.concat([hurricane_harvey_post, hurricane_irma_post,hurricane_maria_post,north_bay_2014_earthquake_post,prague_2011_earthquake_post,wildfire_campfire_post,wildfire_carrfire_post,wildfire_woolseyfire_post], ignore_index=True)"
   ]
  },
  {
   "cell_type": "markdown",
   "metadata": {
    "pycharm": {}
   },
   "source": [
    "This creates a combined dataframe of all of the post-disaster Dataframes that we previously imported. "
   ]
  },
  {
   "cell_type": "code",
   "execution_count": 9,
   "metadata": {
    "pycharm": {
     "is_executing": false
    }
   },
   "outputs": [],
   "source": [
    "combined_post['text'] = combined_post.text.map(lambda x: re.sub('http[s]?:\\/\\/[^\\s]*', ' ', x))"
   ]
  },
  {
   "cell_type": "code",
   "execution_count": 10,
   "metadata": {
    "pycharm": {
     "is_executing": false
    }
   },
   "outputs": [],
   "source": [
    "combined_post['text'] = combined_post.text.map(lambda x: re.sub('[^A-z]', ' ', x))"
   ]
  },
  {
   "cell_type": "markdown",
   "metadata": {
    "pycharm": {}
   },
   "source": [
    "This removes all URLs and nonalphabetical characters from our post-disaster twitter texts. "
   ]
  },
  {
   "cell_type": "code",
   "execution_count": 11,
   "metadata": {
    "pycharm": {
     "is_executing": false
    }
   },
   "outputs": [],
   "source": [
    "combined_pre.to_csv('../assets/combined_pre.csv')"
   ]
  },
  {
   "cell_type": "code",
   "execution_count": 12,
   "metadata": {
    "pycharm": {
     "is_executing": false
    }
   },
   "outputs": [],
   "source": [
    "combined_post.to_csv('../assets/combined_post.csv')"
   ]
  },
  {
   "cell_type": "markdown",
   "metadata": {
    "pycharm": {}
   },
   "source": [
    "This exports our pre and post disaster combined DataFrames to csv files. "
   ]
  }
 ],
 "metadata": {
  "kernelspec": {
   "display_name": "Python 3",
   "language": "python",
   "name": "python3"
  },
  "language_info": {
   "codemirror_mode": {
    "name": "ipython",
    "version": 3
   },
   "file_extension": ".py",
   "mimetype": "text/x-python",
   "name": "python",
   "nbconvert_exporter": "python",
   "pygments_lexer": "ipython3",
   "version": "3.7.1"
  }
 },
 "nbformat": 4,
 "nbformat_minor": 2
}
