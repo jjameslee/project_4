{
  "cells": [
    {
      "cell_type": "code",
      "execution_count": 6,
      "metadata": {
        "collapsed": true,
        "pycharm": {
          "is_executing": false
        }
      },
      "outputs": [],
      "source": "import pandas as pd\nfrom sklearn.linear_model import LogisticRegression\nfrom sklearn.model_selection import train_test_split, GridSearchCV"
    },
    {
      "cell_type": "code",
      "execution_count": 2,
      "outputs": [],
      "source": "pre \u003d pd.read_csv(\u0027../assets/combined_pre_classed.csv\u0027, index_col\u003d0)\npost \u003d pd.read_csv(\u0027../assets/combined_post_classed.csv\u0027, index_col\u003d0)\ndf \u003d pd.concat([pre, post], ignore_index\u003dTrue)\ntarget \u003d df[\u0027disaster\u0027]",
      "metadata": {
        "pycharm": {
          "metadata": false,
          "name": "#%%\n",
          "is_executing": false
        }
      }
    },
    {
      "cell_type": "code",
      "execution_count": 4,
      "outputs": [],
      "source": "svd_df \u003d pd.read_csv(\u0027../assets/svd_df.csv\u0027, index_col\u003d0)",
      "metadata": {
        "pycharm": {
          "metadata": false,
          "name": "#%%\n",
          "is_executing": false
        }
      }
    },
    {
      "cell_type": "code",
      "execution_count": 7,
      "outputs": [],
      "source": "X_train, X_test, y_train, y_test \u003d train_test_split(svd_df,\n                                                    target,\n                                                    stratify\u003dtarget)",
      "metadata": {
        "pycharm": {
          "metadata": false,
          "name": "#%%\n",
          "is_executing": false
        }
      }
    },
    {
      "cell_type": "code",
      "execution_count": 8,
      "outputs": [],
      "source": "log_reg \u003d LogisticRegression()",
      "metadata": {
        "pycharm": {
          "metadata": false,
          "name": "#%%\n",
          "is_executing": false
        }
      }
    },
    {
      "cell_type": "code",
      "execution_count": 16,
      "outputs": [],
      "source": "params \u003d {\n    \u0027penalty\u0027   : [\u0027l1\u0027, \u0027l2\u0027],\n    \u0027C\u0027         : [.5, 1, 2, 3, 4, 5]\n}",
      "metadata": {
        "pycharm": {
          "metadata": false,
          "name": "#%%\n",
          "is_executing": false
        }
      }
    },
    {
      "cell_type": "code",
      "execution_count": 17,
      "outputs": [],
      "source": "gs \u003d GridSearchCV(log_reg,\n                  param_grid\u003dparams,\n                  cv\u003d3)",
      "metadata": {
        "pycharm": {
          "metadata": false,
          "name": "#%%\n",
          "is_executing": false
        }
      }
    },
    {
      "cell_type": "code",
      "execution_count": 18,
      "outputs": [
        {
          "data": {
            "text/plain": "GridSearchCV(cv\u003d3, error_score\u003d\u0027raise\u0027,\n       estimator\u003dLogisticRegression(C\u003d1.0, class_weight\u003dNone, dual\u003dFalse, fit_intercept\u003dTrue,\n          intercept_scaling\u003d1, max_iter\u003d100, multi_class\u003d\u0027ovr\u0027, n_jobs\u003d1,\n          penalty\u003d\u0027l2\u0027, random_state\u003dNone, solver\u003d\u0027liblinear\u0027, tol\u003d0.0001,\n          verbose\u003d0, warm_start\u003dFalse),\n       fit_params\u003dNone, iid\u003dTrue, n_jobs\u003d1,\n       param_grid\u003d{\u0027penalty\u0027: [\u0027l1\u0027, \u0027l2\u0027], \u0027C\u0027: [0.5, 1, 2, 3, 4, 5]},\n       pre_dispatch\u003d\u00272*n_jobs\u0027, refit\u003dTrue, return_train_score\u003d\u0027warn\u0027,\n       scoring\u003dNone, verbose\u003d0)"
          },
          "metadata": {},
          "output_type": "execute_result",
          "execution_count": 18
        }
      ],
      "source": "gs.fit(X_train, y_train)",
      "metadata": {
        "pycharm": {
          "metadata": false,
          "name": "#%%\n",
          "is_executing": false
        }
      }
    },
    {
      "cell_type": "code",
      "execution_count": 19,
      "outputs": [
        {
          "data": {
            "text/plain": "0.9184300248944691"
          },
          "metadata": {},
          "output_type": "execute_result",
          "execution_count": 19
        }
      ],
      "source": "gs.score(X_train, y_train)",
      "metadata": {
        "pycharm": {
          "metadata": false,
          "name": "#%%\n",
          "is_executing": false
        }
      }
    },
    {
      "cell_type": "code",
      "execution_count": 20,
      "outputs": [
        {
          "data": {
            "text/plain": "0.9179316502962903"
          },
          "metadata": {},
          "output_type": "execute_result",
          "execution_count": 20
        }
      ],
      "source": "gs.score(X_test, y_test)",
      "metadata": {
        "pycharm": {
          "metadata": false,
          "name": "#%%\n",
          "is_executing": false
        }
      }
    },
    {
      "cell_type": "code",
      "execution_count": 21,
      "outputs": [
        {
          "data": {
            "text/plain": "{\u0027C\u0027: 5, \u0027penalty\u0027: \u0027l1\u0027}"
          },
          "metadata": {},
          "output_type": "execute_result",
          "execution_count": 21
        }
      ],
      "source": "gs.best_params_",
      "metadata": {
        "pycharm": {
          "metadata": false,
          "name": "#%%\n",
          "is_executing": false
        }
      }
    }
  ],
  "metadata": {
    "language_info": {
      "codemirror_mode": {
        "name": "ipython",
        "version": 2
      },
      "file_extension": ".py",
      "mimetype": "text/x-python",
      "name": "python",
      "nbconvert_exporter": "python",
      "pygments_lexer": "ipython2",
      "version": "2.7.6"
    },
    "kernelspec": {
      "name": "pycharm-f6d6c855",
      "language": "python",
      "display_name": "PyCharm (Data Science Immersive (GA))"
    }
  },
  "nbformat": 4,
  "nbformat_minor": 0
}