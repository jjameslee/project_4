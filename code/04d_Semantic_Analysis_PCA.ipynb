{
 "cells": [
  {
   "cell_type": "markdown",
   "metadata": {},
   "source": [
    "We will import the libraries needed throughout this notebook."
   ]
  },
  {
   "cell_type": "code",
   "execution_count": 711,
   "metadata": {},
   "outputs": [],
   "source": [
    "import pandas as pd\n",
    "import numpy as np\n",
    "import matplotlib.pyplot as plt\n",
    "import pickle\n",
    "import nltk\n",
    "from nltk.corpus import stopwords\n",
    "from nltk.stem import WordNetLemmatizer\n",
    "from sklearn.model_selection import train_test_split\n",
    "from sklearn.feature_extraction.text import CountVectorizer, TfidfVectorizer\n",
    "from sklearn.model_selection import train_test_split, GridSearchCV\n",
    "\n",
    "%matplotlib inline"
   ]
  },
  {
   "cell_type": "markdown",
   "metadata": {},
   "source": [
    "We will read in pre-classified disaster tweets and the post-classified disaster tweets.\n"
   ]
  },
  {
   "cell_type": "code",
   "execution_count": 712,
   "metadata": {},
   "outputs": [],
   "source": [
    "combined_pre = pd.read_csv('./assets/combined_pre_classed.csv', index_col= 0)\n",
    "combined_post = pd.read_csv('./assets/combined_post_classed.csv', index_col=0)"
   ]
  },
  {
   "cell_type": "markdown",
   "metadata": {},
   "source": [
    "These are the additional stopwords we came up with to add to the original stopwords to fish out for more important words that may give us better insight on the organic message of the twitter users when it comes to disasters or not. Bulk of the new stop words added the specific names of the natural disasters that we used for this project as well as terms closely associated with mass-shootings. In our earthquake data, many of the tweets that were scaped were during a time of a mass-shooting that recently took place in Thousand Oaks at a bar. We made sure to remove such words to minimize the impact it can have in our pre-processing.\n",
    "\n",
    "Once we formed our new stopwords, we pickled it so that it can be saved and called upon in our future notebooks. More information on pickling can be found [here](https://pythontips.com/2013/08/02/what-is-pickle-in-python/).\n"
   ]
  },
  {
   "cell_type": "code",
   "execution_count": 713,
   "metadata": {},
   "outputs": [],
   "source": [
    "add_stop = ['http', 'www', 'org', 'reddit', 'youtube', 'facebook', 'amp', \n",
    "            'deleted', 'removed', 'rt', 'twitter', 'com', 'net', 'carr', 'irma', 'harvey',\n",
    "            'maria', 'carrfire', 'camp', 'campfire', 'woolsey', \n",
    "            'woolseyfire', 'prague', 'north', 'northbay', 'news',\n",
    "            'hurricaneirma', 'hurricaneharvey', 'hurricanemaria',\n",
    "            'headline', 'breaking', 'shooting', 'guns', 'gun', \n",
    "            'shoot', 'bullets', 'bullet', 'shootings', \n",
    "            'clip', 'bar', 'college','student','students', \n",
    "            'magazine', 'ammo', 'ammunition','shootings', \n",
    "            'rampage', 'gunman', 'stabbing', 'slayings', 'shooter', \n",
    "            'fatally', 'killings', 'killing', 'shot', 'unarmed', \n",
    "            'massacre', 'slaying', 'incident', 'stabbings','altercation', \n",
    "            'shooters', 'murder', 'shoot', 'carjacking', 'gunned', 'murders', \n",
    "            'firing', 'newtown', 'scuffle', 'gunmen', 'florida', 'keys', 'key', \n",
    "            'school', 'ian', 'david','texas', 'miami', 'california', 'harvey', 'thousandoaks',\n",
    "           'assault','houston', 'ventura', 'san','cudjoe', 'oaks', 'en', 'de', 'la', \n",
    "            'el', 'tiroteo', 'th','massshooting','californiashooting']"
   ]
  },
  {
   "cell_type": "code",
   "execution_count": 714,
   "metadata": {},
   "outputs": [],
   "source": [
    "add_stop_set = set(add_stop)\n",
    "add_stop_list = list(add_stop_set)\n",
    "\n",
    "stopwords = nltk.corpus.stopwords.words('english')\n",
    "\n",
    "stopwords.extend(add_stop_list)"
   ]
  },
  {
   "cell_type": "code",
   "execution_count": 715,
   "metadata": {},
   "outputs": [
    {
     "data": {
      "text/plain": [
       "273"
      ]
     },
     "execution_count": 715,
     "metadata": {},
     "output_type": "execute_result"
    }
   ],
   "source": [
    "len(stopwords)"
   ]
  },
  {
   "cell_type": "code",
   "execution_count": 716,
   "metadata": {},
   "outputs": [],
   "source": [
    "# Pickling the updated stopwords\n",
    "with open('./assets/stopwords.pkl', 'wb') as f:\n",
    "    pickle.dump(stopwords, f)"
   ]
  },
  {
   "cell_type": "markdown",
   "metadata": {},
   "source": [
    "We combined the two separate dataframes into one. Together the rows almost equal a 100,000 tweets."
   ]
  },
  {
   "cell_type": "code",
   "execution_count": 717,
   "metadata": {},
   "outputs": [],
   "source": [
    "combined_df = pd.concat([combined_pre, \n",
    "                        combined_post], \n",
    "                       ignore_index=True)"
   ]
  },
  {
   "cell_type": "code",
   "execution_count": 718,
   "metadata": {},
   "outputs": [
    {
     "data": {
      "text/plain": [
       "(98550, 2)"
      ]
     },
     "execution_count": 718,
     "metadata": {},
     "output_type": "execute_result"
    }
   ],
   "source": [
    "combined_df.shape"
   ]
  },
  {
   "cell_type": "markdown",
   "metadata": {},
   "source": [
    "About 77% of the data are classified as being non-disaster related; whereas, 22% of them are. As we can see, the baseline accuracy is 77.4%. Our future models has to have better score than just being able to pick the majority class as prediction."
   ]
  },
  {
   "cell_type": "code",
   "execution_count": 719,
   "metadata": {},
   "outputs": [
    {
     "data": {
      "text/plain": [
       "0    0.774419\n",
       "1    0.225581\n",
       "Name: disaster, dtype: float64"
      ]
     },
     "execution_count": 719,
     "metadata": {},
     "output_type": "execute_result"
    }
   ],
   "source": [
    "combined_df.disaster.value_counts(normalize=True)"
   ]
  },
  {
   "cell_type": "code",
   "execution_count": 720,
   "metadata": {},
   "outputs": [],
   "source": [
    "combined_df.to_csv('../project_4/assets/combined_df.csv')"
   ]
  },
  {
   "cell_type": "markdown",
   "metadata": {},
   "source": [
    "We will implement the Term Frequency–Inverse Document Frequency (TFIDF) tool to have the words recored as integer counts in order to be used on a the Logistic Regression model. We will also split our data into 'X' and 'y'. The X is an object that consists of the predictor column, in this case the text (tweets). The y will contain the binary classifier column, whether or not the tweets belongs to a disaster class or non-disaster class."
   ]
  },
  {
   "cell_type": "code",
   "execution_count": 669,
   "metadata": {},
   "outputs": [],
   "source": [
    "y = combined_df['disaster']\n",
    "\n",
    "# Set X as text column.\n",
    "X = combined_df['text']"
   ]
  },
  {
   "cell_type": "markdown",
   "metadata": {},
   "source": [
    "We will randomly split the data into training and test sets. This is done so we can train our model on the training set and then evaluate the performance of the model on unseen new data (the validation set)."
   ]
  },
  {
   "cell_type": "code",
   "execution_count": 670,
   "metadata": {},
   "outputs": [],
   "source": [
    "# Train/test split our data.\n",
    "X_train, X_test, y_train, y_test = train_test_split(X,\n",
    "                                                    y,\n",
    "                                                    test_size = 0.30,\n",
    "                                                    random_state = 42, \n",
    "                                                    stratify=y)"
   ]
  },
  {
   "cell_type": "code",
   "execution_count": 671,
   "metadata": {},
   "outputs": [],
   "source": [
    "tfidf = TfidfVectorizer(stop_words = stopwords, \n",
    "                        max_df=0.95, \n",
    "                        min_df=5, max_features=10_000)\n",
    "\n",
    "X_train_tfidf = tfidf.fit_transform(X_train)\n",
    "X_test_tfidf = tfidf.transform(X_test)"
   ]
  },
  {
   "cell_type": "markdown",
   "metadata": {},
   "source": [
    "We will do an initial attempt to classify the tweets according to its' corresponding class by utilizing the TFIDF tool to the logistic regression model.\n",
    "\n",
    "The logistic model will return a predicted score between 0 and 1 that indicates the accuracy percentage of whether the model correctly predicted a given tweet as being from the disaster class or non-disaster class."
   ]
  },
  {
   "cell_type": "code",
   "execution_count": 672,
   "metadata": {},
   "outputs": [],
   "source": [
    "from sklearn.linear_model import LogisticRegression"
   ]
  },
  {
   "cell_type": "code",
   "execution_count": 673,
   "metadata": {},
   "outputs": [
    {
     "name": "stderr",
     "output_type": "stream",
     "text": [
      "/Users/jameslee/anaconda3/lib/python3.6/site-packages/sklearn/linear_model/logistic.py:433: FutureWarning: Default solver will be changed to 'lbfgs' in 0.22. Specify a solver to silence this warning.\n",
      "  FutureWarning)\n"
     ]
    }
   ],
   "source": [
    "logreg = LogisticRegression()\n",
    "model = logreg.fit(X_train_tfidf,y_train)"
   ]
  },
  {
   "cell_type": "markdown",
   "metadata": {},
   "source": [
    "The naive Logistic Regression model gives us a test score of 95.1%. This is a 18% improvement over the baseline accuracy score."
   ]
  },
  {
   "cell_type": "code",
   "execution_count": 674,
   "metadata": {},
   "outputs": [
    {
     "data": {
      "text/plain": [
       "0.9591940276871783"
      ]
     },
     "execution_count": 674,
     "metadata": {},
     "output_type": "execute_result"
    }
   ],
   "source": [
    "model.score(X_train_tfidf, y_train)"
   ]
  },
  {
   "cell_type": "code",
   "execution_count": 675,
   "metadata": {},
   "outputs": [
    {
     "data": {
      "text/plain": [
       "0.9512599357348216"
      ]
     },
     "execution_count": 675,
     "metadata": {},
     "output_type": "execute_result"
    }
   ],
   "source": [
    "model.score(X_test_tfidf, y_test)"
   ]
  },
  {
   "cell_type": "markdown",
   "metadata": {},
   "source": [
    "----"
   ]
  },
  {
   "cell_type": "markdown",
   "metadata": {},
   "source": [
    "## PCA: \n",
    "With 10,000 max features; we have a significant size of columns. There are various ways we can solve for this. One option is to obviously drop some of the words. However, not only will this be extremey time consuming to figure out which ones to drop; it is also a potential loss of information. As a result, we decided to try Principle Component Analysis (PCA).\n",
    "\n",
    "PCA is a form of feature extraction. This allows us to take our existing features and combine them together in a particular way. We can then drop some of these \"new\" variables, but the variables we keep are still a combination of the old variables."
   ]
  },
  {
   "cell_type": "code",
   "execution_count": 676,
   "metadata": {},
   "outputs": [],
   "source": [
    "X_train_df_tfidf = pd.SparseDataFrame(X_train_tfidf,\n",
    "                             columns=tfidf.get_feature_names())"
   ]
  },
  {
   "cell_type": "code",
   "execution_count": 677,
   "metadata": {},
   "outputs": [
    {
     "data": {
      "text/plain": [
       "(68985, 10000)"
      ]
     },
     "execution_count": 677,
     "metadata": {},
     "output_type": "execute_result"
    }
   ],
   "source": [
    "X_train_df_tfidf.shape"
   ]
  },
  {
   "cell_type": "code",
   "execution_count": 678,
   "metadata": {},
   "outputs": [],
   "source": [
    "X_test_df_tfidf = pd.SparseDataFrame(X_test_tfidf,\n",
    "                                    columns=tfidf.get_feature_names())"
   ]
  },
  {
   "cell_type": "code",
   "execution_count": 679,
   "metadata": {},
   "outputs": [
    {
     "data": {
      "text/plain": [
       "(29565, 10000)"
      ]
     },
     "execution_count": 679,
     "metadata": {},
     "output_type": "execute_result"
    }
   ],
   "source": [
    "X_test_df_tfidf.shape"
   ]
  },
  {
   "cell_type": "code",
   "execution_count": 680,
   "metadata": {},
   "outputs": [
    {
     "data": {
      "text/html": [
       "<div>\n",
       "<style scoped>\n",
       "    .dataframe tbody tr th:only-of-type {\n",
       "        vertical-align: middle;\n",
       "    }\n",
       "\n",
       "    .dataframe tbody tr th {\n",
       "        vertical-align: top;\n",
       "    }\n",
       "\n",
       "    .dataframe thead th {\n",
       "        text-align: right;\n",
       "    }\n",
       "</style>\n",
       "<table border=\"1\" class=\"dataframe\">\n",
       "  <thead>\n",
       "    <tr style=\"text-align: right;\">\n",
       "      <th></th>\n",
       "      <th>__</th>\n",
       "      <th>____</th>\n",
       "      <th>_hustle_junky</th>\n",
       "      <th>aa</th>\n",
       "      <th>aaa</th>\n",
       "      <th>aan</th>\n",
       "      <th>aaron</th>\n",
       "      <th>ab</th>\n",
       "      <th>abandoned</th>\n",
       "      <th>abatido</th>\n",
       "      <th>...</th>\n",
       "      <th>zr</th>\n",
       "      <th>zs</th>\n",
       "      <th>zswaggers</th>\n",
       "      <th>zswagtour</th>\n",
       "      <th>zu</th>\n",
       "      <th>zv</th>\n",
       "      <th>zw</th>\n",
       "      <th>zx</th>\n",
       "      <th>zy</th>\n",
       "      <th>zz</th>\n",
       "    </tr>\n",
       "  </thead>\n",
       "  <tbody>\n",
       "    <tr>\n",
       "      <th>0</th>\n",
       "      <td>NaN</td>\n",
       "      <td>NaN</td>\n",
       "      <td>NaN</td>\n",
       "      <td>NaN</td>\n",
       "      <td>NaN</td>\n",
       "      <td>NaN</td>\n",
       "      <td>NaN</td>\n",
       "      <td>NaN</td>\n",
       "      <td>NaN</td>\n",
       "      <td>NaN</td>\n",
       "      <td>...</td>\n",
       "      <td>NaN</td>\n",
       "      <td>NaN</td>\n",
       "      <td>NaN</td>\n",
       "      <td>NaN</td>\n",
       "      <td>NaN</td>\n",
       "      <td>NaN</td>\n",
       "      <td>NaN</td>\n",
       "      <td>NaN</td>\n",
       "      <td>NaN</td>\n",
       "      <td>NaN</td>\n",
       "    </tr>\n",
       "    <tr>\n",
       "      <th>1</th>\n",
       "      <td>NaN</td>\n",
       "      <td>NaN</td>\n",
       "      <td>NaN</td>\n",
       "      <td>NaN</td>\n",
       "      <td>NaN</td>\n",
       "      <td>NaN</td>\n",
       "      <td>NaN</td>\n",
       "      <td>NaN</td>\n",
       "      <td>NaN</td>\n",
       "      <td>NaN</td>\n",
       "      <td>...</td>\n",
       "      <td>NaN</td>\n",
       "      <td>NaN</td>\n",
       "      <td>NaN</td>\n",
       "      <td>NaN</td>\n",
       "      <td>NaN</td>\n",
       "      <td>NaN</td>\n",
       "      <td>NaN</td>\n",
       "      <td>NaN</td>\n",
       "      <td>NaN</td>\n",
       "      <td>NaN</td>\n",
       "    </tr>\n",
       "    <tr>\n",
       "      <th>2</th>\n",
       "      <td>NaN</td>\n",
       "      <td>NaN</td>\n",
       "      <td>NaN</td>\n",
       "      <td>NaN</td>\n",
       "      <td>NaN</td>\n",
       "      <td>NaN</td>\n",
       "      <td>NaN</td>\n",
       "      <td>NaN</td>\n",
       "      <td>NaN</td>\n",
       "      <td>NaN</td>\n",
       "      <td>...</td>\n",
       "      <td>NaN</td>\n",
       "      <td>NaN</td>\n",
       "      <td>NaN</td>\n",
       "      <td>NaN</td>\n",
       "      <td>NaN</td>\n",
       "      <td>NaN</td>\n",
       "      <td>NaN</td>\n",
       "      <td>NaN</td>\n",
       "      <td>NaN</td>\n",
       "      <td>NaN</td>\n",
       "    </tr>\n",
       "    <tr>\n",
       "      <th>3</th>\n",
       "      <td>NaN</td>\n",
       "      <td>NaN</td>\n",
       "      <td>NaN</td>\n",
       "      <td>NaN</td>\n",
       "      <td>NaN</td>\n",
       "      <td>NaN</td>\n",
       "      <td>NaN</td>\n",
       "      <td>NaN</td>\n",
       "      <td>NaN</td>\n",
       "      <td>NaN</td>\n",
       "      <td>...</td>\n",
       "      <td>NaN</td>\n",
       "      <td>NaN</td>\n",
       "      <td>NaN</td>\n",
       "      <td>NaN</td>\n",
       "      <td>NaN</td>\n",
       "      <td>NaN</td>\n",
       "      <td>NaN</td>\n",
       "      <td>NaN</td>\n",
       "      <td>NaN</td>\n",
       "      <td>NaN</td>\n",
       "    </tr>\n",
       "    <tr>\n",
       "      <th>4</th>\n",
       "      <td>NaN</td>\n",
       "      <td>NaN</td>\n",
       "      <td>NaN</td>\n",
       "      <td>NaN</td>\n",
       "      <td>NaN</td>\n",
       "      <td>NaN</td>\n",
       "      <td>NaN</td>\n",
       "      <td>NaN</td>\n",
       "      <td>NaN</td>\n",
       "      <td>NaN</td>\n",
       "      <td>...</td>\n",
       "      <td>NaN</td>\n",
       "      <td>NaN</td>\n",
       "      <td>NaN</td>\n",
       "      <td>NaN</td>\n",
       "      <td>NaN</td>\n",
       "      <td>NaN</td>\n",
       "      <td>NaN</td>\n",
       "      <td>NaN</td>\n",
       "      <td>NaN</td>\n",
       "      <td>NaN</td>\n",
       "    </tr>\n",
       "  </tbody>\n",
       "</table>\n",
       "<p>5 rows × 10000 columns</p>\n",
       "</div>"
      ],
      "text/plain": [
       "   __  ____  _hustle_junky  aa  aaa  aan  aaron  ab  abandoned  abatido  ...  \\\n",
       "0 NaN   NaN            NaN NaN  NaN  NaN    NaN NaN        NaN      NaN  ...   \n",
       "1 NaN   NaN            NaN NaN  NaN  NaN    NaN NaN        NaN      NaN  ...   \n",
       "2 NaN   NaN            NaN NaN  NaN  NaN    NaN NaN        NaN      NaN  ...   \n",
       "3 NaN   NaN            NaN NaN  NaN  NaN    NaN NaN        NaN      NaN  ...   \n",
       "4 NaN   NaN            NaN NaN  NaN  NaN    NaN NaN        NaN      NaN  ...   \n",
       "\n",
       "   zr  zs  zswaggers  zswagtour  zu  zv  zw  zx  zy  zz  \n",
       "0 NaN NaN        NaN        NaN NaN NaN NaN NaN NaN NaN  \n",
       "1 NaN NaN        NaN        NaN NaN NaN NaN NaN NaN NaN  \n",
       "2 NaN NaN        NaN        NaN NaN NaN NaN NaN NaN NaN  \n",
       "3 NaN NaN        NaN        NaN NaN NaN NaN NaN NaN NaN  \n",
       "4 NaN NaN        NaN        NaN NaN NaN NaN NaN NaN NaN  \n",
       "\n",
       "[5 rows x 10000 columns]"
      ]
     },
     "execution_count": 680,
     "metadata": {},
     "output_type": "execute_result"
    }
   ],
   "source": [
    "X_train_df_tfidf.head()"
   ]
  },
  {
   "cell_type": "code",
   "execution_count": 681,
   "metadata": {},
   "outputs": [],
   "source": [
    "X_train_df_tfidf.fillna(0, inplace=True)"
   ]
  },
  {
   "cell_type": "code",
   "execution_count": 682,
   "metadata": {},
   "outputs": [],
   "source": [
    "X_test_df_tfidf.fillna(0, inplace=True)"
   ]
  },
  {
   "cell_type": "code",
   "execution_count": 683,
   "metadata": {},
   "outputs": [
    {
     "data": {
      "text/plain": [
       "pic          1918.173348\n",
       "hurricane    1852.736735\n",
       "thousand     1376.447568\n",
       "west          713.900895\n",
       "people        711.835950\n",
       "storm         648.255764\n",
       "landfall      583.279153\n",
       "via           551.470766\n",
       "like          529.074651\n",
       "mass          523.550272\n",
       "love          492.007504\n",
       "category      482.597259\n",
       "live          472.964642\n",
       "get           460.626337\n",
       "day           457.450875\n",
       "residents     455.620306\n",
       "one           435.520438\n",
       "go            435.373772\n",
       "today         432.962694\n",
       "makes         424.341345\n",
       "dtype: float64"
      ]
     },
     "execution_count": 683,
     "metadata": {},
     "output_type": "execute_result"
    }
   ],
   "source": [
    "X_train_df_tfidf.sum().sort_values(ascending = False).head(20)"
   ]
  },
  {
   "cell_type": "code",
   "execution_count": 686,
   "metadata": {},
   "outputs": [],
   "source": [
    "X_train_array = np.asarray(X_train_df_tfidf)\n",
    "\n",
    "X_test_array = np.asarray(X_test_df_tfidf)"
   ]
  },
  {
   "cell_type": "markdown",
   "metadata": {},
   "source": [
    "### PCA: Breakdown\n",
    "\n",
    "- We are going to look at how all of these variables relate to one another and summarize these relationships.\n",
    "- Then, by looking at these summaries we can see which combinations of our variables are most important.\n",
    "- We can also score how important each combination is.\n",
    "\n",
    "There are two things we must do prior to applying the PCA. \n",
    "* train/test split\n",
    "* Standardize our data\n",
    "\n",
    "Forunately, we made sure to do this above. We did the train-test split when we ran our naive Logistic Regression model and the TFIDF tool also automatically scaled our data."
   ]
  },
  {
   "cell_type": "code",
   "execution_count": 690,
   "metadata": {},
   "outputs": [],
   "source": [
    "# Import PCA.\n",
    "from sklearn.decomposition import PCA"
   ]
  },
  {
   "cell_type": "markdown",
   "metadata": {},
   "source": [
    "n_component will originally default to the minimum number of either the samples or features in the data, in this case 10,000 features. Due to the time and computation power, we decided to try this out with a hundred components."
   ]
  },
  {
   "cell_type": "code",
   "execution_count": 705,
   "metadata": {},
   "outputs": [],
   "source": [
    "# Instantiate PCA.\n",
    "pca = PCA(n_components=100)"
   ]
  },
  {
   "cell_type": "code",
   "execution_count": 706,
   "metadata": {},
   "outputs": [
    {
     "data": {
      "text/plain": [
       "(68985, 10000)"
      ]
     },
     "execution_count": 706,
     "metadata": {},
     "output_type": "execute_result"
    }
   ],
   "source": [
    "pd.DataFrame(X_train_array).shape"
   ]
  },
  {
   "cell_type": "code",
   "execution_count": 707,
   "metadata": {},
   "outputs": [],
   "source": [
    "# Fit PCA on the training data.\n",
    "Z_train = pca.fit_transform(X_train_array)"
   ]
  },
  {
   "cell_type": "code",
   "execution_count": 708,
   "metadata": {},
   "outputs": [
    {
     "data": {
      "text/html": [
       "<div>\n",
       "<style scoped>\n",
       "    .dataframe tbody tr th:only-of-type {\n",
       "        vertical-align: middle;\n",
       "    }\n",
       "\n",
       "    .dataframe tbody tr th {\n",
       "        vertical-align: top;\n",
       "    }\n",
       "\n",
       "    .dataframe thead th {\n",
       "        text-align: right;\n",
       "    }\n",
       "</style>\n",
       "<table border=\"1\" class=\"dataframe\">\n",
       "  <thead>\n",
       "    <tr style=\"text-align: right;\">\n",
       "      <th></th>\n",
       "      <th>0</th>\n",
       "      <th>1</th>\n",
       "      <th>2</th>\n",
       "      <th>3</th>\n",
       "      <th>4</th>\n",
       "      <th>5</th>\n",
       "      <th>6</th>\n",
       "      <th>7</th>\n",
       "      <th>8</th>\n",
       "      <th>9</th>\n",
       "      <th>...</th>\n",
       "      <th>90</th>\n",
       "      <th>91</th>\n",
       "      <th>92</th>\n",
       "      <th>93</th>\n",
       "      <th>94</th>\n",
       "      <th>95</th>\n",
       "      <th>96</th>\n",
       "      <th>97</th>\n",
       "      <th>98</th>\n",
       "      <th>99</th>\n",
       "    </tr>\n",
       "  </thead>\n",
       "  <tbody>\n",
       "    <tr>\n",
       "      <th>count</th>\n",
       "      <td>6.898500e+04</td>\n",
       "      <td>6.898500e+04</td>\n",
       "      <td>6.898500e+04</td>\n",
       "      <td>6.898500e+04</td>\n",
       "      <td>6.898500e+04</td>\n",
       "      <td>6.898500e+04</td>\n",
       "      <td>6.898500e+04</td>\n",
       "      <td>6.898500e+04</td>\n",
       "      <td>6.898500e+04</td>\n",
       "      <td>6.898500e+04</td>\n",
       "      <td>...</td>\n",
       "      <td>6.898500e+04</td>\n",
       "      <td>6.898500e+04</td>\n",
       "      <td>6.898500e+04</td>\n",
       "      <td>6.898500e+04</td>\n",
       "      <td>6.898500e+04</td>\n",
       "      <td>6.898500e+04</td>\n",
       "      <td>6.898500e+04</td>\n",
       "      <td>6.898500e+04</td>\n",
       "      <td>6.898500e+04</td>\n",
       "      <td>6.898500e+04</td>\n",
       "    </tr>\n",
       "    <tr>\n",
       "      <th>mean</th>\n",
       "      <td>3.675698e-18</td>\n",
       "      <td>1.472150e-17</td>\n",
       "      <td>-2.461555e-18</td>\n",
       "      <td>7.634443e-19</td>\n",
       "      <td>-2.516751e-18</td>\n",
       "      <td>4.859187e-18</td>\n",
       "      <td>3.289349e-18</td>\n",
       "      <td>-1.547438e-17</td>\n",
       "      <td>6.850680e-18</td>\n",
       "      <td>-3.668556e-18</td>\n",
       "      <td>...</td>\n",
       "      <td>9.552106e-19</td>\n",
       "      <td>-1.686367e-18</td>\n",
       "      <td>6.345288e-18</td>\n",
       "      <td>-8.099701e-18</td>\n",
       "      <td>-1.886945e-17</td>\n",
       "      <td>-1.422280e-18</td>\n",
       "      <td>4.821669e-18</td>\n",
       "      <td>-5.554233e-18</td>\n",
       "      <td>-4.106933e-18</td>\n",
       "      <td>-4.124007e-19</td>\n",
       "    </tr>\n",
       "    <tr>\n",
       "      <th>std</th>\n",
       "      <td>9.409049e-02</td>\n",
       "      <td>8.154704e-02</td>\n",
       "      <td>7.321089e-02</td>\n",
       "      <td>6.728463e-02</td>\n",
       "      <td>6.351922e-02</td>\n",
       "      <td>5.716681e-02</td>\n",
       "      <td>5.622178e-02</td>\n",
       "      <td>5.433904e-02</td>\n",
       "      <td>5.355162e-02</td>\n",
       "      <td>5.233427e-02</td>\n",
       "      <td>...</td>\n",
       "      <td>3.286227e-02</td>\n",
       "      <td>3.274252e-02</td>\n",
       "      <td>3.259145e-02</td>\n",
       "      <td>3.233416e-02</td>\n",
       "      <td>3.225325e-02</td>\n",
       "      <td>3.210731e-02</td>\n",
       "      <td>3.202864e-02</td>\n",
       "      <td>3.184728e-02</td>\n",
       "      <td>3.175393e-02</td>\n",
       "      <td>3.170082e-02</td>\n",
       "    </tr>\n",
       "    <tr>\n",
       "      <th>min</th>\n",
       "      <td>-2.514687e-01</td>\n",
       "      <td>-8.212807e-02</td>\n",
       "      <td>-3.046646e-01</td>\n",
       "      <td>-3.291062e-01</td>\n",
       "      <td>-3.378034e-01</td>\n",
       "      <td>-5.395169e-01</td>\n",
       "      <td>-2.951732e-01</td>\n",
       "      <td>-5.600495e-01</td>\n",
       "      <td>-3.938453e-01</td>\n",
       "      <td>-3.535226e-01</td>\n",
       "      <td>...</td>\n",
       "      <td>-2.942394e-01</td>\n",
       "      <td>-3.209860e-01</td>\n",
       "      <td>-2.890211e-01</td>\n",
       "      <td>-2.634059e-01</td>\n",
       "      <td>-2.511594e-01</td>\n",
       "      <td>-2.405896e-01</td>\n",
       "      <td>-2.370746e-01</td>\n",
       "      <td>-2.421881e-01</td>\n",
       "      <td>-2.578453e-01</td>\n",
       "      <td>-3.179619e-01</td>\n",
       "    </tr>\n",
       "    <tr>\n",
       "      <th>25%</th>\n",
       "      <td>-3.946221e-02</td>\n",
       "      <td>-4.238490e-02</td>\n",
       "      <td>-2.120500e-02</td>\n",
       "      <td>-1.417025e-02</td>\n",
       "      <td>-8.655793e-03</td>\n",
       "      <td>-4.859237e-03</td>\n",
       "      <td>-1.956917e-02</td>\n",
       "      <td>-3.499857e-03</td>\n",
       "      <td>-1.229949e-02</td>\n",
       "      <td>-1.287198e-02</td>\n",
       "      <td>...</td>\n",
       "      <td>-1.079684e-02</td>\n",
       "      <td>-1.068850e-02</td>\n",
       "      <td>-1.042930e-02</td>\n",
       "      <td>-1.101918e-02</td>\n",
       "      <td>-1.122808e-02</td>\n",
       "      <td>-1.222785e-02</td>\n",
       "      <td>-1.239116e-02</td>\n",
       "      <td>-1.091756e-02</td>\n",
       "      <td>-1.289615e-02</td>\n",
       "      <td>-1.080332e-02</td>\n",
       "    </tr>\n",
       "    <tr>\n",
       "      <th>50%</th>\n",
       "      <td>-3.035316e-02</td>\n",
       "      <td>-3.553445e-02</td>\n",
       "      <td>-7.394220e-03</td>\n",
       "      <td>-5.813809e-03</td>\n",
       "      <td>5.819240e-03</td>\n",
       "      <td>1.133357e-03</td>\n",
       "      <td>-7.020302e-03</td>\n",
       "      <td>4.946493e-04</td>\n",
       "      <td>2.971891e-03</td>\n",
       "      <td>-4.523501e-03</td>\n",
       "      <td>...</td>\n",
       "      <td>-8.651670e-07</td>\n",
       "      <td>-6.798903e-04</td>\n",
       "      <td>-1.335951e-03</td>\n",
       "      <td>9.403276e-04</td>\n",
       "      <td>6.174261e-04</td>\n",
       "      <td>-2.739829e-03</td>\n",
       "      <td>1.335140e-04</td>\n",
       "      <td>3.974415e-04</td>\n",
       "      <td>-1.273664e-03</td>\n",
       "      <td>-2.677264e-04</td>\n",
       "    </tr>\n",
       "    <tr>\n",
       "      <th>75%</th>\n",
       "      <td>2.546312e-03</td>\n",
       "      <td>1.330170e-02</td>\n",
       "      <td>-2.258000e-03</td>\n",
       "      <td>1.049037e-03</td>\n",
       "      <td>1.045192e-02</td>\n",
       "      <td>8.789232e-03</td>\n",
       "      <td>1.795350e-03</td>\n",
       "      <td>6.636206e-03</td>\n",
       "      <td>1.175499e-02</td>\n",
       "      <td>4.687187e-03</td>\n",
       "      <td>...</td>\n",
       "      <td>1.135129e-02</td>\n",
       "      <td>1.081671e-02</td>\n",
       "      <td>9.207867e-03</td>\n",
       "      <td>1.041979e-02</td>\n",
       "      <td>1.015300e-02</td>\n",
       "      <td>9.330155e-03</td>\n",
       "      <td>1.101568e-02</td>\n",
       "      <td>1.163077e-02</td>\n",
       "      <td>1.018766e-02</td>\n",
       "      <td>9.981834e-03</td>\n",
       "    </tr>\n",
       "    <tr>\n",
       "      <th>max</th>\n",
       "      <td>7.512354e-01</td>\n",
       "      <td>7.018856e-01</td>\n",
       "      <td>8.197603e-01</td>\n",
       "      <td>7.534351e-01</td>\n",
       "      <td>7.353519e-01</td>\n",
       "      <td>5.618245e-01</td>\n",
       "      <td>5.576236e-01</td>\n",
       "      <td>6.196925e-01</td>\n",
       "      <td>7.411997e-01</td>\n",
       "      <td>7.647094e-01</td>\n",
       "      <td>...</td>\n",
       "      <td>3.029199e-01</td>\n",
       "      <td>4.756606e-01</td>\n",
       "      <td>4.567117e-01</td>\n",
       "      <td>3.358963e-01</td>\n",
       "      <td>3.373259e-01</td>\n",
       "      <td>2.945932e-01</td>\n",
       "      <td>2.672481e-01</td>\n",
       "      <td>2.889947e-01</td>\n",
       "      <td>3.320830e-01</td>\n",
       "      <td>3.322953e-01</td>\n",
       "    </tr>\n",
       "  </tbody>\n",
       "</table>\n",
       "<p>8 rows × 100 columns</p>\n",
       "</div>"
      ],
      "text/plain": [
       "                 0             1             2             3             4   \\\n",
       "count  6.898500e+04  6.898500e+04  6.898500e+04  6.898500e+04  6.898500e+04   \n",
       "mean   3.675698e-18  1.472150e-17 -2.461555e-18  7.634443e-19 -2.516751e-18   \n",
       "std    9.409049e-02  8.154704e-02  7.321089e-02  6.728463e-02  6.351922e-02   \n",
       "min   -2.514687e-01 -8.212807e-02 -3.046646e-01 -3.291062e-01 -3.378034e-01   \n",
       "25%   -3.946221e-02 -4.238490e-02 -2.120500e-02 -1.417025e-02 -8.655793e-03   \n",
       "50%   -3.035316e-02 -3.553445e-02 -7.394220e-03 -5.813809e-03  5.819240e-03   \n",
       "75%    2.546312e-03  1.330170e-02 -2.258000e-03  1.049037e-03  1.045192e-02   \n",
       "max    7.512354e-01  7.018856e-01  8.197603e-01  7.534351e-01  7.353519e-01   \n",
       "\n",
       "                 5             6             7             8             9   \\\n",
       "count  6.898500e+04  6.898500e+04  6.898500e+04  6.898500e+04  6.898500e+04   \n",
       "mean   4.859187e-18  3.289349e-18 -1.547438e-17  6.850680e-18 -3.668556e-18   \n",
       "std    5.716681e-02  5.622178e-02  5.433904e-02  5.355162e-02  5.233427e-02   \n",
       "min   -5.395169e-01 -2.951732e-01 -5.600495e-01 -3.938453e-01 -3.535226e-01   \n",
       "25%   -4.859237e-03 -1.956917e-02 -3.499857e-03 -1.229949e-02 -1.287198e-02   \n",
       "50%    1.133357e-03 -7.020302e-03  4.946493e-04  2.971891e-03 -4.523501e-03   \n",
       "75%    8.789232e-03  1.795350e-03  6.636206e-03  1.175499e-02  4.687187e-03   \n",
       "max    5.618245e-01  5.576236e-01  6.196925e-01  7.411997e-01  7.647094e-01   \n",
       "\n",
       "       ...            90            91            92            93  \\\n",
       "count  ...  6.898500e+04  6.898500e+04  6.898500e+04  6.898500e+04   \n",
       "mean   ...  9.552106e-19 -1.686367e-18  6.345288e-18 -8.099701e-18   \n",
       "std    ...  3.286227e-02  3.274252e-02  3.259145e-02  3.233416e-02   \n",
       "min    ... -2.942394e-01 -3.209860e-01 -2.890211e-01 -2.634059e-01   \n",
       "25%    ... -1.079684e-02 -1.068850e-02 -1.042930e-02 -1.101918e-02   \n",
       "50%    ... -8.651670e-07 -6.798903e-04 -1.335951e-03  9.403276e-04   \n",
       "75%    ...  1.135129e-02  1.081671e-02  9.207867e-03  1.041979e-02   \n",
       "max    ...  3.029199e-01  4.756606e-01  4.567117e-01  3.358963e-01   \n",
       "\n",
       "                 94            95            96            97            98  \\\n",
       "count  6.898500e+04  6.898500e+04  6.898500e+04  6.898500e+04  6.898500e+04   \n",
       "mean  -1.886945e-17 -1.422280e-18  4.821669e-18 -5.554233e-18 -4.106933e-18   \n",
       "std    3.225325e-02  3.210731e-02  3.202864e-02  3.184728e-02  3.175393e-02   \n",
       "min   -2.511594e-01 -2.405896e-01 -2.370746e-01 -2.421881e-01 -2.578453e-01   \n",
       "25%   -1.122808e-02 -1.222785e-02 -1.239116e-02 -1.091756e-02 -1.289615e-02   \n",
       "50%    6.174261e-04 -2.739829e-03  1.335140e-04  3.974415e-04 -1.273664e-03   \n",
       "75%    1.015300e-02  9.330155e-03  1.101568e-02  1.163077e-02  1.018766e-02   \n",
       "max    3.373259e-01  2.945932e-01  2.672481e-01  2.889947e-01  3.320830e-01   \n",
       "\n",
       "                 99  \n",
       "count  6.898500e+04  \n",
       "mean  -4.124007e-19  \n",
       "std    3.170082e-02  \n",
       "min   -3.179619e-01  \n",
       "25%   -1.080332e-02  \n",
       "50%   -2.677264e-04  \n",
       "75%    9.981834e-03  \n",
       "max    3.322953e-01  \n",
       "\n",
       "[8 rows x 100 columns]"
      ]
     },
     "execution_count": 708,
     "metadata": {},
     "output_type": "execute_result"
    }
   ],
   "source": [
    "pd.DataFrame(Z_train).describe()\n",
    "\n",
    "# column 0 is the first principal component"
   ]
  },
  {
   "cell_type": "markdown",
   "metadata": {},
   "source": [
    "Since our primary goal with PCA was to do dimensionality reduction, removing some of the features.\n",
    "We decided to measure how important each principal component is using the eigenvalue (score of importance), and as a result sklearn displays the first column as the most important.\n",
    "\n",
    "In order to find out up to which features to keep and what to remove, we utilized the cumulative of explained variance.\n",
    "The explained variance tells us how much information (variance) is captured by each principal component. Clearly from the two plots shown below, these are extremely low amounts of variance that are explained by our principal components. With a 100 components, we only get a total of almost 20% variance explained. It may not be worthwhile to continue the rest of the project using the PCA model."
   ]
  },
  {
   "cell_type": "code",
   "execution_count": 695,
   "metadata": {},
   "outputs": [
    {
     "name": "stdout",
     "output_type": "stream",
     "text": [
      "Explained variance: [0.009 0.007 0.005 0.005 0.004 0.003 0.003 0.003 0.003 0.003 0.003 0.003\n",
      " 0.003 0.003 0.003 0.002 0.002 0.002 0.002 0.002 0.002 0.002 0.002 0.002\n",
      " 0.002 0.002 0.002 0.002 0.002 0.002 0.002 0.002 0.002 0.002 0.002 0.002\n",
      " 0.002 0.002 0.002 0.002 0.002 0.002 0.002 0.002 0.002 0.002 0.002 0.002\n",
      " 0.002 0.002 0.002 0.002 0.001 0.001 0.001 0.001 0.001 0.001 0.001 0.001\n",
      " 0.001 0.001 0.001 0.001 0.001 0.001 0.001 0.001 0.001 0.001 0.001 0.001\n",
      " 0.001 0.001 0.001 0.001 0.001 0.001 0.001 0.001 0.001 0.001 0.001 0.001\n",
      " 0.001 0.001 0.001 0.001 0.001 0.001 0.001 0.001 0.001 0.001 0.001 0.001\n",
      " 0.001 0.001 0.001 0.001]\n",
      "Cumulative explained variance: [0.009 0.016 0.021 0.026 0.03  0.033 0.036 0.039 0.042 0.045 0.048 0.05\n",
      " 0.053 0.056 0.058 0.061 0.063 0.066 0.068 0.07  0.072 0.074 0.076 0.079\n",
      " 0.081 0.082 0.084 0.086 0.088 0.09  0.092 0.094 0.096 0.097 0.099 0.101\n",
      " 0.103 0.104 0.106 0.108 0.109 0.111 0.113 0.114 0.116 0.118 0.119 0.121\n",
      " 0.122 0.124 0.125 0.127 0.128 0.13  0.131 0.133 0.134 0.136 0.137 0.138\n",
      " 0.14  0.141 0.143 0.144 0.145 0.147 0.148 0.149 0.151 0.152 0.153 0.154\n",
      " 0.156 0.157 0.158 0.159 0.161 0.162 0.163 0.164 0.166 0.167 0.168 0.169\n",
      " 0.17  0.171 0.172 0.174 0.175 0.176 0.177 0.178 0.179 0.18  0.181 0.182\n",
      " 0.183 0.184 0.185 0.186]\n"
     ]
    }
   ],
   "source": [
    "var_exp = pca.explained_variance_ratio_\n",
    "print(f'Explained variance: {np.round(var_exp,3)}')\n",
    "\n",
    "cum_var_exp = np.cumsum(var_exp)\n",
    "print(f'Cumulative explained variance: {np.round(cum_var_exp,3)}')"
   ]
  },
  {
   "cell_type": "code",
   "execution_count": 696,
   "metadata": {},
   "outputs": [
    {
     "data": {
      "image/png": "[encoded data removed]",
      "text/plain": [
       "<Figure size 648x504 with 1 Axes>"
      ]
     },
     "metadata": {
      "needs_background": "light"
     },
     "output_type": "display_data"
    }
   ],
   "source": [
    "plt.figure(figsize=(9,7))\n",
    "\n",
    "# Plot the explained variance\n",
    "component_number = range(len(var_exp))\n",
    "plt.plot(component_number, var_exp, lw=3)\n",
    "\n",
    "# Add horizontal lines at y=0 and y=100\n",
    "plt.axhline(y=0, linewidth=1, color='grey', ls='dashed')\n",
    "plt.axhline(y=1, linewidth=1, color='grey', ls='dashed')\n",
    "\n",
    "# Set the x and y axis limits\n",
    "ax = plt.gca()\n",
    "ax.set_xlim([-1,26])\n",
    "ax.set_ylim([-0.05,1.05])\n",
    "\n",
    "# Label the axes\n",
    "ax.set_ylabel('variance explained', fontsize=16)\n",
    "ax.set_xlabel('component', fontsize=16)\n",
    "\n",
    "# Make the tick labels bigger\n",
    "for tick in ax.xaxis.get_major_ticks():\n",
    "    tick.label.set_fontsize(12) \n",
    "for tick in ax.yaxis.get_major_ticks():\n",
    "    tick.label.set_fontsize(12) \n",
    "    \n",
    "# Add title\n",
    "ax.set_title('Component vs Variance Explained\\n', fontsize=20)\n",
    "\n",
    "plt.show()"
   ]
  },
  {
   "cell_type": "code",
   "execution_count": 697,
   "metadata": {},
   "outputs": [
    {
     "data": {
      "image/png": "[encoded data removed]",
      "text/plain": [
       "<Figure size 648x504 with 1 Axes>"
      ]
     },
     "metadata": {
      "needs_background": "light"
     },
     "output_type": "display_data"
    }
   ],
   "source": [
    "plt.figure(figsize=(9,7))\n",
    "\n",
    "# Plot the cumulative explained variance\n",
    "component_number = range(len(cum_var_exp))\n",
    "plt.plot(component_number, cum_var_exp, lw=3)\n",
    "\n",
    "# Add horizontal lines at y=0 and y=100\n",
    "plt.axhline(y=0, linewidth=1, color='grey', ls='dashed')\n",
    "plt.axhline(y=1, linewidth=1, color='grey', ls='dashed')\n",
    "\n",
    "# Set the x and y axis limits\n",
    "ax = plt.gca()\n",
    "ax.set_xlim([-1,26])\n",
    "ax.set_ylim([-0.05,1.05])\n",
    "\n",
    "# Label the axes\n",
    "ax.set_ylabel('cumulative variance explained', fontsize=16)\n",
    "ax.set_xlabel('component', fontsize=16)\n",
    "\n",
    "# Make the tick labels bigger\n",
    "for tick in ax.xaxis.get_major_ticks():\n",
    "    tick.label.set_fontsize(12) \n",
    "for tick in ax.yaxis.get_major_ticks():\n",
    "    tick.label.set_fontsize(12) \n",
    "    \n",
    "# Add title\n",
    "ax.set_title('Component vs Cumulative variance explained\\n', fontsize=20)\n",
    "\n",
    "plt.show()"
   ]
  },
  {
   "cell_type": "markdown",
   "metadata": {},
   "source": [
    "If we wanted to explain the most variability in our data with principal components, we would need to keep all the number of principal components and even then it would not explain much. Nevertheless, this is a display of the comparison between the original performance and our PCA's performance. Evidently, the PCA performance does not improve our original performance. As a result, we will forgo this model and try out another."
   ]
  },
  {
   "cell_type": "code",
   "execution_count": 698,
   "metadata": {},
   "outputs": [
    {
     "name": "stderr",
     "output_type": "stream",
     "text": [
      "/Users/jameslee/anaconda3/lib/python3.6/site-packages/sklearn/linear_model/logistic.py:433: FutureWarning: Default solver will be changed to 'lbfgs' in 0.22. Specify a solver to silence this warning.\n",
      "  FutureWarning)\n"
     ]
    },
    {
     "name": "stdout",
     "output_type": "stream",
     "text": [
      "Training Score: 0.9592.\n",
      "Testing Score: 0.9513.\n"
     ]
    }
   ],
   "source": [
    "# Instantiate linear regression model.\n",
    "logreg = LogisticRegression()\n",
    "\n",
    "# Fit on X_train.\n",
    "logreg.fit(X_train_tfidf, y_train)\n",
    "\n",
    "# Score on training and testing sets.\n",
    "print(f'Training Score: {round(logreg.score((X_train_tfidf), y_train),4)}.')\n",
    "print(f'Testing Score: {round(logreg.score((X_test_tfidf), y_test),4)}.')"
   ]
  },
  {
   "cell_type": "code",
   "execution_count": 710,
   "metadata": {},
   "outputs": [
    {
     "name": "stderr",
     "output_type": "stream",
     "text": [
      "/Users/jameslee/anaconda3/lib/python3.6/site-packages/sklearn/linear_model/logistic.py:433: FutureWarning: Default solver will be changed to 'lbfgs' in 0.22. Specify a solver to silence this warning.\n",
      "  FutureWarning)\n"
     ]
    },
    {
     "name": "stdout",
     "output_type": "stream",
     "text": [
      "Training Score: 0.8648.\n",
      "Testing Score: 0.865.\n"
     ]
    }
   ],
   "source": [
    "# Instantiate linear regression model.\n",
    "logreg = LogisticRegression()\n",
    "\n",
    "# Transform Z_train and Z_test.\n",
    "Z_train = pca.fit_transform(X_train_array)\n",
    "Z_test = pca.transform(X_test_array)\n",
    "\n",
    "# Fit on Z_train.\n",
    "logreg.fit(Z_train, y_train)\n",
    "\n",
    "# Score on training and testing sets.\n",
    "print(f'Training Score: {round(logreg.score((Z_train), y_train),4)}.')\n",
    "print(f'Testing Score: {round(logreg.score((Z_test), y_test),4)}.')"
   ]
  },
  {
   "cell_type": "code",
   "execution_count": null,
   "metadata": {},
   "outputs": [],
   "source": []
  }
 ],
 "metadata": {
  "kernelspec": {
   "display_name": "Python 3",
   "language": "python",
   "name": "python3"
  },
  "language_info": {
   "codemirror_mode": {
    "name": "ipython",
    "version": 3
   },
   "file_extension": ".py",
   "mimetype": "text/x-python",
   "name": "python",
   "nbconvert_exporter": "python",
   "pygments_lexer": "ipython3",
   "version": "3.6.8"
  }
 },
 "nbformat": 4,
 "nbformat_minor": 2
}
